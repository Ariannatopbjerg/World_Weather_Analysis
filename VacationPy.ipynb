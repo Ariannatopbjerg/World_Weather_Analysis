{
 "cells": [
  {
   "cell_type": "code",
   "execution_count": 1,
   "id": "focused-worship",
   "metadata": {},
   "outputs": [
    {
     "data": {
      "text/html": [
       "<div>\n",
       "<style scoped>\n",
       "    .dataframe tbody tr th:only-of-type {\n",
       "        vertical-align: middle;\n",
       "    }\n",
       "\n",
       "    .dataframe tbody tr th {\n",
       "        vertical-align: top;\n",
       "    }\n",
       "\n",
       "    .dataframe thead th {\n",
       "        text-align: right;\n",
       "    }\n",
       "</style>\n",
       "<table border=\"1\" class=\"dataframe\">\n",
       "  <thead>\n",
       "    <tr style=\"text-align: right;\">\n",
       "      <th></th>\n",
       "      <th>City_ID</th>\n",
       "      <th>City</th>\n",
       "      <th>Country</th>\n",
       "      <th>Date</th>\n",
       "      <th>Lat</th>\n",
       "      <th>Lng</th>\n",
       "      <th>Max Temp</th>\n",
       "      <th>Humidity</th>\n",
       "      <th>Cloudiness</th>\n",
       "      <th>Wind Speed</th>\n",
       "    </tr>\n",
       "  </thead>\n",
       "  <tbody>\n",
       "    <tr>\n",
       "      <th>0</th>\n",
       "      <td>0</td>\n",
       "      <td>Najran</td>\n",
       "      <td>SA</td>\n",
       "      <td>3/4/2021 6:02</td>\n",
       "      <td>17.4924</td>\n",
       "      <td>44.1277</td>\n",
       "      <td>66.20</td>\n",
       "      <td>27</td>\n",
       "      <td>0</td>\n",
       "      <td>9.24</td>\n",
       "    </tr>\n",
       "    <tr>\n",
       "      <th>1</th>\n",
       "      <td>1</td>\n",
       "      <td>Barrow</td>\n",
       "      <td>US</td>\n",
       "      <td>3/4/2021 6:00</td>\n",
       "      <td>71.2906</td>\n",
       "      <td>-156.7887</td>\n",
       "      <td>-18.40</td>\n",
       "      <td>69</td>\n",
       "      <td>1</td>\n",
       "      <td>5.75</td>\n",
       "    </tr>\n",
       "    <tr>\n",
       "      <th>2</th>\n",
       "      <td>2</td>\n",
       "      <td>Bluff</td>\n",
       "      <td>NZ</td>\n",
       "      <td>3/4/2021 6:02</td>\n",
       "      <td>-46.6000</td>\n",
       "      <td>168.3333</td>\n",
       "      <td>61.00</td>\n",
       "      <td>47</td>\n",
       "      <td>29</td>\n",
       "      <td>8.99</td>\n",
       "    </tr>\n",
       "    <tr>\n",
       "      <th>3</th>\n",
       "      <td>3</td>\n",
       "      <td>Bakhchysaray</td>\n",
       "      <td>UA</td>\n",
       "      <td>3/4/2021 6:02</td>\n",
       "      <td>44.7500</td>\n",
       "      <td>33.8667</td>\n",
       "      <td>45.00</td>\n",
       "      <td>52</td>\n",
       "      <td>0</td>\n",
       "      <td>3.11</td>\n",
       "    </tr>\n",
       "    <tr>\n",
       "      <th>4</th>\n",
       "      <td>4</td>\n",
       "      <td>Ushuaia</td>\n",
       "      <td>AR</td>\n",
       "      <td>3/4/2021 5:57</td>\n",
       "      <td>-54.8000</td>\n",
       "      <td>-68.3000</td>\n",
       "      <td>48.20</td>\n",
       "      <td>76</td>\n",
       "      <td>0</td>\n",
       "      <td>5.75</td>\n",
       "    </tr>\n",
       "    <tr>\n",
       "      <th>5</th>\n",
       "      <td>5</td>\n",
       "      <td>La Ronge</td>\n",
       "      <td>CA</td>\n",
       "      <td>3/4/2021 6:02</td>\n",
       "      <td>55.1001</td>\n",
       "      <td>-105.2842</td>\n",
       "      <td>17.60</td>\n",
       "      <td>86</td>\n",
       "      <td>100</td>\n",
       "      <td>1.14</td>\n",
       "    </tr>\n",
       "    <tr>\n",
       "      <th>6</th>\n",
       "      <td>6</td>\n",
       "      <td>Albany</td>\n",
       "      <td>US</td>\n",
       "      <td>3/4/2021 6:02</td>\n",
       "      <td>42.6001</td>\n",
       "      <td>-73.9662</td>\n",
       "      <td>36.00</td>\n",
       "      <td>85</td>\n",
       "      <td>83</td>\n",
       "      <td>1.01</td>\n",
       "    </tr>\n",
       "    <tr>\n",
       "      <th>7</th>\n",
       "      <td>7</td>\n",
       "      <td>San Vicente</td>\n",
       "      <td>AR</td>\n",
       "      <td>3/4/2021 6:02</td>\n",
       "      <td>-26.6167</td>\n",
       "      <td>-54.1333</td>\n",
       "      <td>65.05</td>\n",
       "      <td>100</td>\n",
       "      <td>99</td>\n",
       "      <td>3.31</td>\n",
       "    </tr>\n",
       "    <tr>\n",
       "      <th>8</th>\n",
       "      <td>8</td>\n",
       "      <td>Lagoa</td>\n",
       "      <td>PT</td>\n",
       "      <td>3/4/2021 6:02</td>\n",
       "      <td>39.0500</td>\n",
       "      <td>-27.9833</td>\n",
       "      <td>59.18</td>\n",
       "      <td>86</td>\n",
       "      <td>99</td>\n",
       "      <td>20.09</td>\n",
       "    </tr>\n",
       "    <tr>\n",
       "      <th>9</th>\n",
       "      <td>9</td>\n",
       "      <td>Vaini</td>\n",
       "      <td>TO</td>\n",
       "      <td>3/4/2021 6:02</td>\n",
       "      <td>-21.2000</td>\n",
       "      <td>-175.2000</td>\n",
       "      <td>82.40</td>\n",
       "      <td>78</td>\n",
       "      <td>75</td>\n",
       "      <td>9.22</td>\n",
       "    </tr>\n",
       "  </tbody>\n",
       "</table>\n",
       "</div>"
      ],
      "text/plain": [
       "   City_ID          City Country           Date      Lat       Lng  Max Temp  \\\n",
       "0        0        Najran      SA  3/4/2021 6:02  17.4924   44.1277     66.20   \n",
       "1        1        Barrow      US  3/4/2021 6:00  71.2906 -156.7887    -18.40   \n",
       "2        2         Bluff      NZ  3/4/2021 6:02 -46.6000  168.3333     61.00   \n",
       "3        3  Bakhchysaray      UA  3/4/2021 6:02  44.7500   33.8667     45.00   \n",
       "4        4       Ushuaia      AR  3/4/2021 5:57 -54.8000  -68.3000     48.20   \n",
       "5        5      La Ronge      CA  3/4/2021 6:02  55.1001 -105.2842     17.60   \n",
       "6        6        Albany      US  3/4/2021 6:02  42.6001  -73.9662     36.00   \n",
       "7        7   San Vicente      AR  3/4/2021 6:02 -26.6167  -54.1333     65.05   \n",
       "8        8         Lagoa      PT  3/4/2021 6:02  39.0500  -27.9833     59.18   \n",
       "9        9         Vaini      TO  3/4/2021 6:02 -21.2000 -175.2000     82.40   \n",
       "\n",
       "   Humidity  Cloudiness  Wind Speed  \n",
       "0        27           0        9.24  \n",
       "1        69           1        5.75  \n",
       "2        47          29        8.99  \n",
       "3        52           0        3.11  \n",
       "4        76           0        5.75  \n",
       "5        86         100        1.14  \n",
       "6        85          83        1.01  \n",
       "7       100          99        3.31  \n",
       "8        86          99       20.09  \n",
       "9        78          75        9.22  "
      ]
     },
     "execution_count": 1,
     "metadata": {},
     "output_type": "execute_result"
    }
   ],
   "source": [
    "# Import the dependencies.\n",
    "import pandas as pd\n",
    "import matplotlib.pyplot as plt\n",
    "import numpy as np\n",
    "\n",
    "city_data_to_load = \"weather_data/cities.csv\"\n",
    "city_data_df = pd.read_csv(city_data_to_load)\n",
    "\n",
    "city_data_df.head(10)"
   ]
  },
  {
   "cell_type": "code",
   "execution_count": 2,
   "id": "floating-incidence",
   "metadata": {},
   "outputs": [
    {
     "data": {
      "image/png": "[encoded data removed]",
      "text/plain": [
       "<Figure size 432x288 with 1 Axes>"
      ]
     },
     "metadata": {
      "needs_background": "light"
     },
     "output_type": "display_data"
    }
   ],
   "source": [
    "# Extract relevant fields from the DataFrame for plotting.\n",
    "lats = city_data_df[\"Lat\"]\n",
    "max_temps = city_data_df[\"Max Temp\"]\n",
    "humidity = city_data_df[\"Humidity\"]\n",
    "cloudiness = city_data_df[\"Cloudiness\"]\n",
    "wind_speed = city_data_df[\"Wind Speed\"]\n",
    "\n",
    "# Import time module\n",
    "import time\n",
    "\n",
    "# Build the scatter plot for latitude vs. max temperature.\n",
    "plt.scatter(lats,\n",
    "            max_temps,\n",
    "            edgecolor=\"black\", linewidths=1, marker=\"o\",\n",
    "            alpha=0.8, label=\"Cities\")\n",
    "\n",
    "# Incorporate the other graph properties.\n",
    "plt.title(f\"City Latitude vs. Max Temperature \"+ time.strftime(\"%x\"))\n",
    "plt.ylabel(\"Max Temperature (F)\")\n",
    "plt.xlabel(\"Latitude\")\n",
    "plt.grid(True)\n",
    "\n",
    "# Save the figure.\n",
    "plt.savefig(\"weather_data/Lat_max_temp.png\")\n",
    "\n",
    "# Show plot.\n",
    "plt.show()"
   ]
  },
  {
   "cell_type": "code",
   "execution_count": 3,
   "id": "plastic-import",
   "metadata": {},
   "outputs": [
    {
     "data": {
      "image/png": "[encoded data removed]",
      "text/plain": [
       "<Figure size 432x288 with 1 Axes>"
      ]
     },
     "metadata": {
      "needs_background": "light"
     },
     "output_type": "display_data"
    }
   ],
   "source": [
    "# Build the scatter plots for latitude vs. humidity.\n",
    "plt.scatter(lats,\n",
    "            humidity,\n",
    "            edgecolor=\"black\", linewidths=1, marker=\"o\",\n",
    "            alpha=0.8, label=\"Cities\")\n",
    "\n",
    "# Incorporate the other graph properties.\n",
    "plt.title(f\"City Latitude vs. Humidity \"+ time.strftime(\"%x\"))\n",
    "plt.ylabel(\"Humidity (%)\")\n",
    "plt.xlabel(\"Latitude\")\n",
    "plt.grid(True)\n",
    "# Save the figure.\n",
    "plt.savefig(\"weather_data/Lat_humidity.png\")\n",
    "# Show plot.\n",
    "plt.show()"
   ]
  },
  {
   "cell_type": "code",
   "execution_count": 4,
   "id": "proud-print",
   "metadata": {},
   "outputs": [
    {
     "data": {
      "image/png": "[encoded data removed]",
      "text/plain": [
       "<Figure size 432x288 with 1 Axes>"
      ]
     },
     "metadata": {
      "needs_background": "light"
     },
     "output_type": "display_data"
    }
   ],
   "source": [
    "# Build the scatter plots for latitude vs. cloudiness.\n",
    "plt.scatter(lats,\n",
    "            cloudiness,\n",
    "            edgecolor=\"black\", linewidths=1, marker=\"o\",\n",
    "            alpha=0.8, label=\"Cities\")\n",
    "\n",
    "# Incorporate the other graph properties.\n",
    "plt.title(f\"City Latitude vs. Cloudiness (%) \"+ time.strftime(\"%x\"))\n",
    "plt.ylabel(\"Cloudiness (%)\")\n",
    "plt.xlabel(\"Latitude\")\n",
    "plt.grid(True)\n",
    "# Save the figure.\n",
    "plt.savefig(\"weather_data/Lat_cloudiness.png\")\n",
    "# Show plot.\n",
    "plt.show()"
   ]
  },
  {
   "cell_type": "code",
   "execution_count": 5,
   "id": "equipped-reduction",
   "metadata": {},
   "outputs": [
    {
     "data": {
      "image/png": "[encoded data removed]",
      "text/plain": [
       "<Figure size 432x288 with 1 Axes>"
      ]
     },
     "metadata": {
      "needs_background": "light"
     },
     "output_type": "display_data"
    }
   ],
   "source": [
    "# Build the scatter plots for latitude vs. wind speed.\n",
    "plt.scatter(lats,\n",
    "            wind_speed,\n",
    "            edgecolor=\"black\", linewidths=1, marker=\"o\",\n",
    "            alpha=0.8, label=\"Cities\")\n",
    "\n",
    "# Incorporate the other graph properties.\n",
    "plt.title(f\"City Latitude vs. Wind Speed \"+ time.strftime(\"%x\"))\n",
    "plt.ylabel(\"Wind Speed (mph)\")\n",
    "plt.xlabel(\"Latitude\")\n",
    "plt.grid(True)\n",
    "# Save the figure.\n",
    "plt.savefig(\"weather_data/Lat_wind_speed.png\")\n",
    "# Show plot.\n",
    "plt.show()"
   ]
  },
  {
   "cell_type": "code",
   "execution_count": 6,
   "id": "friendly-organic",
   "metadata": {},
   "outputs": [],
   "source": [
    "#                             Performing Linear Regression on Plots"
   ]
  },
  {
   "cell_type": "code",
   "execution_count": 7,
   "id": "standing-thousand",
   "metadata": {},
   "outputs": [],
   "source": [
    "# We have an algorithm that performs the linear regression; returns the equation of the regression line, \n",
    "# and correlation coefficient, and p value; and adds the regression line to a scatter plot of city weather data.\n",
    "# Below, the code looks like what we have used before.\n",
    "\n",
    "\n",
    "# Perform linear regression.\n",
    "#(slope, intercept, r_value, p_value, std_err) = linregress(x_values, y_values)\n",
    "\n",
    "# Calculate the regression line \"y values\" from the slope and intercept.\n",
    "#regress_values = x_values * slope + intercept\n",
    "\n",
    "# Get the equation of the line.\n",
    "#line_eq = \"y = \" + str(round(slope,2)) + \"x + \" + str(round(intercept,2))\n",
    "\n",
    "# Create a scatter plot of the x and y values.\n",
    "#plt.scatter(x_values,y_values)\n",
    "# Plot the regression line with the x-values and the y coordinates based on the intercept and slope.\n",
    "#plt.plot(x_values,regress_values,\"r\")\n",
    "# Annotate the text for the line equation and add its coordinates.\n",
    "#plt.annotate(line_eq, (10,40), fontsize=13, color=\"red\")\n",
    "#plt.xlabel('Latitude')\n",
    "#plt.ylabel('Temp')\n",
    "#plt.show()"
   ]
  },
  {
   "cell_type": "code",
   "execution_count": 8,
   "id": "crude-objective",
   "metadata": {},
   "outputs": [],
   "source": [
    "# Import linregress\n",
    "from scipy.stats import linregress"
   ]
  },
  {
   "cell_type": "code",
   "execution_count": 9,
   "id": "experimental-filter",
   "metadata": {},
   "outputs": [],
   "source": [
    "# In this function, there are four parameters: x_values, y_values, y_label, and text_coordinates, \n",
    "# and we will add a fifth parameter for the title, called, title\n",
    "\n",
    "# Create a function to create perform linear regression on the weather data\n",
    "# and plot a regression line and the equation with the data.\n",
    "def plot_linear_regression(x_values, y_values, title, y_label, text_coordinates):\n",
    "\n",
    "    # Run regression on hemisphere weather data.\n",
    "    (slope, intercept, r_value, p_value, std_err) = linregress(x_values, y_values)\n",
    "\n",
    "    # Calculate the regression line \"y values\" from the slope and intercept.\n",
    "    regress_values = x_values * slope + intercept\n",
    "    # Get the equation of the line.\n",
    "    line_eq = \"y = \" + str(round(slope,2)) + \"x + \" + str(round(intercept,2))\n",
    "    # Create a scatter plot and plot the regression line.\n",
    "    plt.scatter(x_values,y_values)\n",
    "    plt.plot(x_values,regress_values,\"r\")\n",
    "    # Annotate the text for the line equation.\n",
    "    plt.annotate(line_eq, text_coordinates, fontsize=15, color=\"red\")\n",
    "    plt.xlabel('Latitude')\n",
    "    plt.ylabel(y_label)\n",
    "    plt.show()\n",
    "    \n",
    "# NOTE: If we run this code there will be no output until we call the function with five parameters."
   ]
  },
  {
   "cell_type": "code",
   "execution_count": 10,
   "id": "silver-penguin",
   "metadata": {},
   "outputs": [],
   "source": [
    "# REMEBER: \n",
    "    # To get an output from a function, we need to call the function with the correct number of parameters or \n",
    "    # arguments for the function."
   ]
  },
  {
   "cell_type": "code",
   "execution_count": 11,
   "id": "proper-edmonton",
   "metadata": {},
   "outputs": [],
   "source": [
    "#                                     Create the Hemisphere DataFrames\n",
    "#                                    (Northern and Southern DataFrames)"
   ]
  },
  {
   "cell_type": "code",
   "execution_count": 12,
   "id": "detected-antique",
   "metadata": {},
   "outputs": [],
   "source": [
    "# Create Northern and Southern Hemisphere DataFrames.\n",
    "northern_hemi_df = city_data_df.loc[(city_data_df[\"Lat\"] >= 0)]\n",
    "southern_hemi_df = city_data_df.loc[(city_data_df[\"Lat\"] < 0)]"
   ]
  },
  {
   "cell_type": "code",
   "execution_count": 13,
   "id": "little-victoria",
   "metadata": {},
   "outputs": [
    {
     "data": {
      "text/html": [
       "<div>\n",
       "<style scoped>\n",
       "    .dataframe tbody tr th:only-of-type {\n",
       "        vertical-align: middle;\n",
       "    }\n",
       "\n",
       "    .dataframe tbody tr th {\n",
       "        vertical-align: top;\n",
       "    }\n",
       "\n",
       "    .dataframe thead th {\n",
       "        text-align: right;\n",
       "    }\n",
       "</style>\n",
       "<table border=\"1\" class=\"dataframe\">\n",
       "  <thead>\n",
       "    <tr style=\"text-align: right;\">\n",
       "      <th></th>\n",
       "      <th>City_ID</th>\n",
       "      <th>City</th>\n",
       "      <th>Country</th>\n",
       "      <th>Date</th>\n",
       "      <th>Lat</th>\n",
       "      <th>Lng</th>\n",
       "      <th>Max Temp</th>\n",
       "      <th>Humidity</th>\n",
       "      <th>Cloudiness</th>\n",
       "      <th>Wind Speed</th>\n",
       "    </tr>\n",
       "  </thead>\n",
       "  <tbody>\n",
       "    <tr>\n",
       "      <th>0</th>\n",
       "      <td>0</td>\n",
       "      <td>Najran</td>\n",
       "      <td>SA</td>\n",
       "      <td>3/4/2021 6:02</td>\n",
       "      <td>17.4924</td>\n",
       "      <td>44.1277</td>\n",
       "      <td>66.2</td>\n",
       "      <td>27</td>\n",
       "      <td>0</td>\n",
       "      <td>9.24</td>\n",
       "    </tr>\n",
       "    <tr>\n",
       "      <th>1</th>\n",
       "      <td>1</td>\n",
       "      <td>Barrow</td>\n",
       "      <td>US</td>\n",
       "      <td>3/4/2021 6:00</td>\n",
       "      <td>71.2906</td>\n",
       "      <td>-156.7887</td>\n",
       "      <td>-18.4</td>\n",
       "      <td>69</td>\n",
       "      <td>1</td>\n",
       "      <td>5.75</td>\n",
       "    </tr>\n",
       "    <tr>\n",
       "      <th>3</th>\n",
       "      <td>3</td>\n",
       "      <td>Bakhchysaray</td>\n",
       "      <td>UA</td>\n",
       "      <td>3/4/2021 6:02</td>\n",
       "      <td>44.7500</td>\n",
       "      <td>33.8667</td>\n",
       "      <td>45.0</td>\n",
       "      <td>52</td>\n",
       "      <td>0</td>\n",
       "      <td>3.11</td>\n",
       "    </tr>\n",
       "    <tr>\n",
       "      <th>5</th>\n",
       "      <td>5</td>\n",
       "      <td>La Ronge</td>\n",
       "      <td>CA</td>\n",
       "      <td>3/4/2021 6:02</td>\n",
       "      <td>55.1001</td>\n",
       "      <td>-105.2842</td>\n",
       "      <td>17.6</td>\n",
       "      <td>86</td>\n",
       "      <td>100</td>\n",
       "      <td>1.14</td>\n",
       "    </tr>\n",
       "    <tr>\n",
       "      <th>6</th>\n",
       "      <td>6</td>\n",
       "      <td>Albany</td>\n",
       "      <td>US</td>\n",
       "      <td>3/4/2021 6:02</td>\n",
       "      <td>42.6001</td>\n",
       "      <td>-73.9662</td>\n",
       "      <td>36.0</td>\n",
       "      <td>85</td>\n",
       "      <td>83</td>\n",
       "      <td>1.01</td>\n",
       "    </tr>\n",
       "  </tbody>\n",
       "</table>\n",
       "</div>"
      ],
      "text/plain": [
       "   City_ID          City Country           Date      Lat       Lng  Max Temp  \\\n",
       "0        0        Najran      SA  3/4/2021 6:02  17.4924   44.1277      66.2   \n",
       "1        1        Barrow      US  3/4/2021 6:00  71.2906 -156.7887     -18.4   \n",
       "3        3  Bakhchysaray      UA  3/4/2021 6:02  44.7500   33.8667      45.0   \n",
       "5        5      La Ronge      CA  3/4/2021 6:02  55.1001 -105.2842      17.6   \n",
       "6        6        Albany      US  3/4/2021 6:02  42.6001  -73.9662      36.0   \n",
       "\n",
       "   Humidity  Cloudiness  Wind Speed  \n",
       "0        27           0        9.24  \n",
       "1        69           1        5.75  \n",
       "3        52           0        3.11  \n",
       "5        86         100        1.14  \n",
       "6        85          83        1.01  "
      ]
     },
     "execution_count": 13,
     "metadata": {},
     "output_type": "execute_result"
    }
   ],
   "source": [
    "northern_hemi_df.head()"
   ]
  },
  {
   "cell_type": "code",
   "execution_count": 14,
   "id": "forced-miracle",
   "metadata": {},
   "outputs": [
    {
     "data": {
      "text/html": [
       "<div>\n",
       "<style scoped>\n",
       "    .dataframe tbody tr th:only-of-type {\n",
       "        vertical-align: middle;\n",
       "    }\n",
       "\n",
       "    .dataframe tbody tr th {\n",
       "        vertical-align: top;\n",
       "    }\n",
       "\n",
       "    .dataframe thead th {\n",
       "        text-align: right;\n",
       "    }\n",
       "</style>\n",
       "<table border=\"1\" class=\"dataframe\">\n",
       "  <thead>\n",
       "    <tr style=\"text-align: right;\">\n",
       "      <th></th>\n",
       "      <th>City_ID</th>\n",
       "      <th>City</th>\n",
       "      <th>Country</th>\n",
       "      <th>Date</th>\n",
       "      <th>Lat</th>\n",
       "      <th>Lng</th>\n",
       "      <th>Max Temp</th>\n",
       "      <th>Humidity</th>\n",
       "      <th>Cloudiness</th>\n",
       "      <th>Wind Speed</th>\n",
       "    </tr>\n",
       "  </thead>\n",
       "  <tbody>\n",
       "    <tr>\n",
       "      <th>2</th>\n",
       "      <td>2</td>\n",
       "      <td>Bluff</td>\n",
       "      <td>NZ</td>\n",
       "      <td>3/4/2021 6:02</td>\n",
       "      <td>-46.6000</td>\n",
       "      <td>168.3333</td>\n",
       "      <td>61.00</td>\n",
       "      <td>47</td>\n",
       "      <td>29</td>\n",
       "      <td>8.99</td>\n",
       "    </tr>\n",
       "    <tr>\n",
       "      <th>4</th>\n",
       "      <td>4</td>\n",
       "      <td>Ushuaia</td>\n",
       "      <td>AR</td>\n",
       "      <td>3/4/2021 5:57</td>\n",
       "      <td>-54.8000</td>\n",
       "      <td>-68.3000</td>\n",
       "      <td>48.20</td>\n",
       "      <td>76</td>\n",
       "      <td>0</td>\n",
       "      <td>5.75</td>\n",
       "    </tr>\n",
       "    <tr>\n",
       "      <th>7</th>\n",
       "      <td>7</td>\n",
       "      <td>San Vicente</td>\n",
       "      <td>AR</td>\n",
       "      <td>3/4/2021 6:02</td>\n",
       "      <td>-26.6167</td>\n",
       "      <td>-54.1333</td>\n",
       "      <td>65.05</td>\n",
       "      <td>100</td>\n",
       "      <td>99</td>\n",
       "      <td>3.31</td>\n",
       "    </tr>\n",
       "    <tr>\n",
       "      <th>9</th>\n",
       "      <td>9</td>\n",
       "      <td>Vaini</td>\n",
       "      <td>TO</td>\n",
       "      <td>3/4/2021 6:02</td>\n",
       "      <td>-21.2000</td>\n",
       "      <td>-175.2000</td>\n",
       "      <td>82.40</td>\n",
       "      <td>78</td>\n",
       "      <td>75</td>\n",
       "      <td>9.22</td>\n",
       "    </tr>\n",
       "    <tr>\n",
       "      <th>10</th>\n",
       "      <td>10</td>\n",
       "      <td>Mataura</td>\n",
       "      <td>NZ</td>\n",
       "      <td>3/4/2021 6:02</td>\n",
       "      <td>-46.1927</td>\n",
       "      <td>168.8643</td>\n",
       "      <td>61.00</td>\n",
       "      <td>47</td>\n",
       "      <td>58</td>\n",
       "      <td>8.99</td>\n",
       "    </tr>\n",
       "  </tbody>\n",
       "</table>\n",
       "</div>"
      ],
      "text/plain": [
       "    City_ID         City Country           Date      Lat       Lng  Max Temp  \\\n",
       "2         2        Bluff      NZ  3/4/2021 6:02 -46.6000  168.3333     61.00   \n",
       "4         4      Ushuaia      AR  3/4/2021 5:57 -54.8000  -68.3000     48.20   \n",
       "7         7  San Vicente      AR  3/4/2021 6:02 -26.6167  -54.1333     65.05   \n",
       "9         9        Vaini      TO  3/4/2021 6:02 -21.2000 -175.2000     82.40   \n",
       "10       10      Mataura      NZ  3/4/2021 6:02 -46.1927  168.8643     61.00   \n",
       "\n",
       "    Humidity  Cloudiness  Wind Speed  \n",
       "2         47          29        8.99  \n",
       "4         76           0        5.75  \n",
       "7        100          99        3.31  \n",
       "9         78          75        9.22  \n",
       "10        47          58        8.99  "
      ]
     },
     "execution_count": 14,
     "metadata": {},
     "output_type": "execute_result"
    }
   ],
   "source": [
    "southern_hemi_df.head()"
   ]
  },
  {
   "cell_type": "code",
   "execution_count": 15,
   "id": "controlled-fisher",
   "metadata": {},
   "outputs": [],
   "source": [
    "#                 Perform Linear Regression on the Maximum Temperature for the Northern Hemisphere"
   ]
  },
  {
   "cell_type": "code",
   "execution_count": 16,
   "id": "affecting-modeling",
   "metadata": {},
   "outputs": [
    {
     "ename": "SyntaxError",
     "evalue": "EOL while scanning string literal (<ipython-input-16-6bec216379e6>, line 5)",
     "output_type": "error",
     "traceback": [
      "\u001b[1;36m  File \u001b[1;32m\"<ipython-input-16-6bec216379e6>\"\u001b[1;36m, line \u001b[1;32m5\u001b[0m\n\u001b[1;33m    plt.title('Linear Regression on the Northern Hemisphere /n\u001b[0m\n\u001b[1;37m                                                               ^\u001b[0m\n\u001b[1;31mSyntaxError\u001b[0m\u001b[1;31m:\u001b[0m EOL while scanning string literal\n"
     ]
    }
   ],
   "source": [
    "# Linear regression on the Northern Hemisphere\n",
    "x_values = northern_hemi_df[\"Lat\"]\n",
    "y_values = northern_hemi_df[\"Max Temp\"]\n",
    "# Call the function.\n",
    "plt.title('Linear Regression on the Northern Hemisphere /n \n",
    "        'for Maximum Temperature')\n",
    "plot_linear_regression(x_values, y_values,_, 'Max Temp',(0,-30))\n",
    "plt.show()\n",
    "linregress(x_values, y_values)"
   ]
  },
  {
   "cell_type": "code",
   "execution_count": null,
   "id": "sized-region",
   "metadata": {},
   "outputs": [],
   "source": [
    "#                 Perform Linear Regression on the Maximum Temperature for the Southern Hemisphere"
   ]
  },
  {
   "cell_type": "code",
   "execution_count": 17,
   "id": "domestic-syntax",
   "metadata": {},
   "outputs": [
    {
     "data": {
      "image/png": "[encoded data removed]",
      "text/plain": [
       "<Figure size 432x288 with 1 Axes>"
      ]
     },
     "metadata": {
      "needs_background": "light"
     },
     "output_type": "display_data"
    },
    {
     "data": {
      "text/plain": [
       "LinregressResult(slope=0.3679112243101531, intercept=82.13729637618448, rvalue=0.5187690435385547, pvalue=1.4981969770463033e-14, stderr=0.044102248248270574, intercept_stderr=1.0865571642556573)"
      ]
     },
     "execution_count": 17,
     "metadata": {},
     "output_type": "execute_result"
    }
   ],
   "source": [
    "# Linear regression on the Southern Hemisphere\n",
    "x_values = southern_hemi_df[\"Lat\"]\n",
    "y_values = southern_hemi_df[\"Max Temp\"]\n",
    "# Call the function.\n",
    "plot_linear_regression(x_values, y_values,\n",
    "                       'Linear Regression on the Southern Hemisphere \\\n",
    "                        for Maximum Temperature', 'Max Temp',(-55,95))\n",
    "plt.show()\n",
    "linregress(x_values, y_values)"
   ]
  },
  {
   "cell_type": "code",
   "execution_count": null,
   "id": "bright-population",
   "metadata": {},
   "outputs": [],
   "source": [
    "# The correlation between the latitude and the maximum temperature is strong to very strong for the Northern Hemisphere\n",
    "# because the r-value is less than –0.7 (-1.31). The Southern Hemisphere has a medium correlation. This means that as \n",
    "# we approach the equator, 0° latitude, the temperatures become warmer. \n",
    "# And when we are further from the equator the temperatures become cooler. "
   ]
  },
  {
   "cell_type": "code",
   "execution_count": null,
   "id": "included-reservoir",
   "metadata": {},
   "outputs": [],
   "source": [
    "#                  Find the Correlation Between Latitude and Percent Humidity"
   ]
  },
  {
   "cell_type": "code",
   "execution_count": null,
   "id": "excess-tuition",
   "metadata": {},
   "outputs": [],
   "source": [
    "# Linear regression on the Northern Hemisphere\n",
    "x_values = northern_hemi_df[\"Lat\"]\n",
    "y_values = northern_hemi_df[\"Humidity\"]\n",
    "# Call the function.\n",
    "plot_linear_regression(x_values, y_values,\n",
    "                       'Linear Regression on the Northern Hemisphere \\\n",
    "                        for % Humidity', '% Humidity',(45,5))\n",
    "linregress(x_values, y_values)"
   ]
  },
  {
   "cell_type": "code",
   "execution_count": null,
   "id": "adequate-director",
   "metadata": {},
   "outputs": [],
   "source": [
    "# Linear regression on the Southern Hemisphere\n",
    "x_values = southern_hemi_df[\"Lat\"]\n",
    "y_values = southern_hemi_df[\"Humidity\"]\n",
    "# Call the function.\n",
    "plot_linear_regression(x_values, y_values,\n",
    "                       'Linear Regression on the Southern Hemisphere \\\n",
    "                        for % Humidity', '% Humidity',(-56, 10))\n",
    "linregress(x_values, y_values)"
   ]
  },
  {
   "cell_type": "code",
   "execution_count": null,
   "id": "educational-consensus",
   "metadata": {},
   "outputs": [],
   "source": [
    "#                    Find the Correlation Between Latitude and Percent Cloudiness"
   ]
  },
  {
   "cell_type": "code",
   "execution_count": null,
   "id": "appropriate-nudist",
   "metadata": {},
   "outputs": [],
   "source": [
    "# Linear regression on the Northern Hemisphere\n",
    "x_values = northern_hemi_df[\"Lat\"]\n",
    "y_values = northern_hemi_df[\"Cloudiness\"]\n",
    "# Call the function.\n",
    "plot_linear_regression(x_values, y_values,\n",
    "                       'Linear Regression on the Northern Hemisphere \\\n",
    "                        for % Cloudiness', '% Cloudiness',(45,5))\n",
    "linregress(x_values, y_values)"
   ]
  },
  {
   "cell_type": "code",
   "execution_count": null,
   "id": "elect-matrix",
   "metadata": {},
   "outputs": [],
   "source": [
    "# Linear regression on the Southern Hemisphere\n",
    "x_values = southern_hemi_df[\"Lat\"]\n",
    "y_values = southern_hemi_df[\"Cloudiness\"]\n",
    "# Call the function.\n",
    "plot_linear_regression(x_values, y_values,\n",
    "                       'Linear Regression on the Southern Hemisphere \\\n",
    "                        for % CLoudiness', '% Cloudiness',(-56, 10))\n",
    "linregress(x_values, y_values)"
   ]
  },
  {
   "cell_type": "code",
   "execution_count": null,
   "id": "front-caribbean",
   "metadata": {},
   "outputs": [],
   "source": [
    "#                            Find the Correlation Between Latitude and Wind Speed"
   ]
  },
  {
   "cell_type": "code",
   "execution_count": null,
   "id": "israeli-singer",
   "metadata": {},
   "outputs": [],
   "source": [
    "# Linear regression on the Northern Hemisphere\n",
    "x_values = northern_hemi_df[\"Lat\"]\n",
    "y_values = northern_hemi_df[\"Wind Speed\"]\n",
    "# Call the function.\n",
    "plot_linear_regression(x_values, y_values,\n",
    "                       'Linear Regression on the Northern Hemisphere \\\n",
    "                        for Wind Speed', 'Wind Speed',(0,58))\n",
    "linregress(x_values, y_values)"
   ]
  },
  {
   "cell_type": "code",
   "execution_count": null,
   "id": "military-necklace",
   "metadata": {},
   "outputs": [],
   "source": [
    "# Linear regression on the Southern Hemisphere\n",
    "x_values = southern_hemi_df[\"Lat\"]\n",
    "y_values = southern_hemi_df[\"Wind Speed\"]\n",
    "# Call the function.\n",
    "plot_linear_regression(x_values, y_values,\n",
    "                       'Linear Regression on the Southern Hemisphere \\\n",
    "                        for Wind Speed', 'Wind Speed',(-53,18))\n",
    "linregress(x_values, y_values)"
   ]
  },
  {
   "cell_type": "code",
   "execution_count": null,
   "id": "apparent-designer",
   "metadata": {},
   "outputs": [],
   "source": [
    "#                                     Create Heatmaps for Weather Parameters"
   ]
  },
  {
   "cell_type": "code",
   "execution_count": 19,
   "id": "steady-yacht",
   "metadata": {},
   "outputs": [],
   "source": [
    "# Import the dependencies.\n",
    "import pandas as pd               # To read CSV file/create locations and measurements from the DataFrame\n",
    "import gmaps                      # Gmaps and API key to create heatmaps & the location map & Use the requests dependency\n",
    "import requests                   # to make a request to Google Places JSOn file (allow to get hotel locations from lat &\n",
    "# Import the API key.             # Long of the city)\n",
    "from config import gkey"
   ]
  },
  {
   "cell_type": "code",
   "execution_count": 20,
   "id": "accepting-toddler",
   "metadata": {},
   "outputs": [
    {
     "data": {
      "text/html": [
       "<div>\n",
       "<style scoped>\n",
       "    .dataframe tbody tr th:only-of-type {\n",
       "        vertical-align: middle;\n",
       "    }\n",
       "\n",
       "    .dataframe tbody tr th {\n",
       "        vertical-align: top;\n",
       "    }\n",
       "\n",
       "    .dataframe thead th {\n",
       "        text-align: right;\n",
       "    }\n",
       "</style>\n",
       "<table border=\"1\" class=\"dataframe\">\n",
       "  <thead>\n",
       "    <tr style=\"text-align: right;\">\n",
       "      <th></th>\n",
       "      <th>City_ID</th>\n",
       "      <th>City</th>\n",
       "      <th>Country</th>\n",
       "      <th>Date</th>\n",
       "      <th>Lat</th>\n",
       "      <th>Lng</th>\n",
       "      <th>Max Temp</th>\n",
       "      <th>Humidity</th>\n",
       "      <th>Cloudiness</th>\n",
       "      <th>Wind Speed</th>\n",
       "    </tr>\n",
       "  </thead>\n",
       "  <tbody>\n",
       "    <tr>\n",
       "      <th>0</th>\n",
       "      <td>0</td>\n",
       "      <td>Najran</td>\n",
       "      <td>SA</td>\n",
       "      <td>3/4/2021 6:02</td>\n",
       "      <td>17.4924</td>\n",
       "      <td>44.1277</td>\n",
       "      <td>66.2</td>\n",
       "      <td>27</td>\n",
       "      <td>0</td>\n",
       "      <td>9.24</td>\n",
       "    </tr>\n",
       "    <tr>\n",
       "      <th>1</th>\n",
       "      <td>1</td>\n",
       "      <td>Barrow</td>\n",
       "      <td>US</td>\n",
       "      <td>3/4/2021 6:00</td>\n",
       "      <td>71.2906</td>\n",
       "      <td>-156.7887</td>\n",
       "      <td>-18.4</td>\n",
       "      <td>69</td>\n",
       "      <td>1</td>\n",
       "      <td>5.75</td>\n",
       "    </tr>\n",
       "    <tr>\n",
       "      <th>2</th>\n",
       "      <td>2</td>\n",
       "      <td>Bluff</td>\n",
       "      <td>NZ</td>\n",
       "      <td>3/4/2021 6:02</td>\n",
       "      <td>-46.6000</td>\n",
       "      <td>168.3333</td>\n",
       "      <td>61.0</td>\n",
       "      <td>47</td>\n",
       "      <td>29</td>\n",
       "      <td>8.99</td>\n",
       "    </tr>\n",
       "    <tr>\n",
       "      <th>3</th>\n",
       "      <td>3</td>\n",
       "      <td>Bakhchysaray</td>\n",
       "      <td>UA</td>\n",
       "      <td>3/4/2021 6:02</td>\n",
       "      <td>44.7500</td>\n",
       "      <td>33.8667</td>\n",
       "      <td>45.0</td>\n",
       "      <td>52</td>\n",
       "      <td>0</td>\n",
       "      <td>3.11</td>\n",
       "    </tr>\n",
       "    <tr>\n",
       "      <th>4</th>\n",
       "      <td>4</td>\n",
       "      <td>Ushuaia</td>\n",
       "      <td>AR</td>\n",
       "      <td>3/4/2021 5:57</td>\n",
       "      <td>-54.8000</td>\n",
       "      <td>-68.3000</td>\n",
       "      <td>48.2</td>\n",
       "      <td>76</td>\n",
       "      <td>0</td>\n",
       "      <td>5.75</td>\n",
       "    </tr>\n",
       "  </tbody>\n",
       "</table>\n",
       "</div>"
      ],
      "text/plain": [
       "   City_ID          City Country           Date      Lat       Lng  Max Temp  \\\n",
       "0        0        Najran      SA  3/4/2021 6:02  17.4924   44.1277      66.2   \n",
       "1        1        Barrow      US  3/4/2021 6:00  71.2906 -156.7887     -18.4   \n",
       "2        2         Bluff      NZ  3/4/2021 6:02 -46.6000  168.3333      61.0   \n",
       "3        3  Bakhchysaray      UA  3/4/2021 6:02  44.7500   33.8667      45.0   \n",
       "4        4       Ushuaia      AR  3/4/2021 5:57 -54.8000  -68.3000      48.2   \n",
       "\n",
       "   Humidity  Cloudiness  Wind Speed  \n",
       "0        27           0        9.24  \n",
       "1        69           1        5.75  \n",
       "2        47          29        8.99  \n",
       "3        52           0        3.11  \n",
       "4        76           0        5.75  "
      ]
     },
     "execution_count": 20,
     "metadata": {},
     "output_type": "execute_result"
    }
   ],
   "source": [
    "# Store the CSV you saved created in part one into a DataFrame.\n",
    "city_data_df = pd.read_csv(\"weather_data/cities.csv\")\n",
    "city_data_df.head()"
   ]
  },
  {
   "cell_type": "code",
   "execution_count": null,
   "id": "worldwide-story",
   "metadata": {},
   "outputs": [],
   "source": [
    "# IMPORTANT:\n",
    "# One caveat to using gmaps: The data we use for any mapping must be either an integer or a floating-point decimal number. \n",
    "# check the data types for the columns of our DataFrame."
   ]
  },
  {
   "cell_type": "code",
   "execution_count": 21,
   "id": "simplified-saskatchewan",
   "metadata": {},
   "outputs": [
    {
     "data": {
      "text/plain": [
       "City_ID         int64\n",
       "City           object\n",
       "Country        object\n",
       "Date           object\n",
       "Lat           float64\n",
       "Lng           float64\n",
       "Max Temp      float64\n",
       "Humidity        int64\n",
       "Cloudiness      int64\n",
       "Wind Speed    float64\n",
       "dtype: object"
      ]
     },
     "execution_count": 21,
     "metadata": {},
     "output_type": "execute_result"
    }
   ],
   "source": [
    "city_data_df.dtypes"
   ]
  },
  {
   "cell_type": "code",
   "execution_count": 22,
   "id": "portable-threshold",
   "metadata": {},
   "outputs": [],
   "source": [
    "# Tell gmaps to use your API key. You only need to configure gmaps to use your API key once.\n",
    "\n",
    "# Configure gmaps to use your Google API key.\n",
    "gmaps.configure(api_key=gkey)"
   ]
  },
  {
   "cell_type": "code",
   "execution_count": 23,
   "id": "electoral-works",
   "metadata": {},
   "outputs": [
    {
     "ename": "SyntaxError",
     "evalue": "invalid syntax (<ipython-input-23-ce34e9984b27>, line 5)",
     "output_type": "error",
     "traceback": [
      "\u001b[1;36m  File \u001b[1;32m\"<ipython-input-23-ce34e9984b27>\"\u001b[1;36m, line \u001b[1;32m5\u001b[0m\n\u001b[1;33m    temperatures = # an array of length equal to the locations array length\u001b[0m\n\u001b[1;37m                   ^\u001b[0m\n\u001b[1;31mSyntaxError\u001b[0m\u001b[1;31m:\u001b[0m invalid syntax\n"
     ]
    }
   ],
   "source": [
    "# Create the heatmap for the maximum temperature. The general syntax for creating a heatmap is as follows:\n",
    "# 1. Assign the locations to an array of latitude and longitude pairs.\n",
    "locations = [latitude, longitude]\n",
    "# 2. Assign the weights variable to some values.\n",
    "temperatures = # an array of length equal to the locations array length\n",
    "# 3. Assign the figure variable to the gmaps.figure() attribute.\n",
    "fig = gmaps.figure()\n",
    "# 4. Assign the heatmap_layer variable to the heatmap_layer attribute and add in the locations.\n",
    "heatmap_layer = gmaps.heatmap_layer(locations, weights=temperatures)\n",
    "\n",
    "# 5. Add the heatmap layer.\n",
    "fig.add_layer(heatmap_layer)\n",
    "# 6. Call the figure to plot the data.\n",
    "fig"
   ]
  },
  {
   "cell_type": "code",
   "execution_count": 24,
   "id": "opponent-satisfaction",
   "metadata": {},
   "outputs": [],
   "source": [
    "#Since the cell below is getting an error due to negative numbers in the 'weights' parameter, must take out all neg values\n",
    "\n",
    "# Get the maximum temperature.\n",
    "max_temp = city_data_df[\"Max Temp\"]\n",
    "temps = []\n",
    "for temp in max_temp:\n",
    "    temps.append(max(temp, 0))\n",
    "    \n",
    "# 'max()' function -> to get the largest value between the 'temp' and 0.\n",
    "# If the 'temp' is less than 0, then 0 will be addded to the list in its place."
   ]
  },
  {
   "cell_type": "code",
   "execution_count": null,
   "id": "geological-teaching",
   "metadata": {},
   "outputs": [],
   "source": [
    "# Instead of for loop use list comprehension.\n",
    "#         [max(temp,0) for temp in max_temp]"
   ]
  },
  {
   "cell_type": "code",
   "execution_count": null,
   "id": "geological-apartment",
   "metadata": {},
   "outputs": [],
   "source": [
    "# Code if weight param has no neg numbers\n",
    "\n",
    "# Heatmap of temperature\n",
    "# Get the latitude and longitude.\n",
    "#locations = city_data_df[[\"Lat\", \"Lng\"]]\n",
    "# Get the maximum temperature.\n",
    "#max_temp = city_data_df[\"Max Temp\"]\n",
    "# Assign the figure variable.\n",
    "#fig = gmaps.figure()\n",
    "# Assign the heatmap variable.\n",
    "#heat_layer = gmaps.heatmap_layer(locations, weights=temps)\n",
    "# Add the heatmap layer.\n",
    "#fig.add_layer(heat_layer)\n",
    "# Call the figure to plot the data.\n",
    "#fig"
   ]
  },
  {
   "cell_type": "code",
   "execution_count": 25,
   "id": "dirty-bouquet",
   "metadata": {
    "scrolled": true
   },
   "outputs": [
    {
     "data": {
      "application/vnd.jupyter.widget-view+json": {
       "model_id": "71e84a0fdb8e4ef7889170c9c294d27d",
       "version_major": 2,
       "version_minor": 0
      },
      "text/plain": [
       "Figure(layout=FigureLayout(height='420px'))"
      ]
     },
     "metadata": {},
     "output_type": "display_data"
    }
   ],
   "source": [
    "# Code for neg numbers in weight param\n",
    "\n",
    "# Heatmap of temperature\n",
    "# Get the latitude and longitude.\n",
    "locations = city_data_df[[\"Lat\", \"Lng\"]]\n",
    "# Get the maximum temperature.\n",
    "max_temp = city_data_df[\"Max Temp\"]\n",
    "# Assign the figure variable.\n",
    "fig = gmaps.figure(center=(30.0, 31.0), zoom_level=1.4)\n",
    "# Assign the heatmap variable.\n",
    "heat_layer = gmaps.heatmap_layer(locations, weights=[max(temp,0) for temp in max_temp], \n",
    "                                 dissipating=False, max_intensity=100, point_radius=4) \n",
    "# Add the heatmap layer.\n",
    "fig.add_layer(heat_layer)\n",
    "# Call the figure to plot the data.\n",
    "fig\n",
    "\n",
    "# Map too large, make adjustments to the 'gmaps.figure()' attribute"
   ]
  },
  {
   "cell_type": "code",
   "execution_count": null,
   "id": "radical-reconstruction",
   "metadata": {},
   "outputs": [],
   "source": [
    "#                         Adjust Heatmap Zoom, Intensity, and Point Radius"
   ]
  },
  {
   "cell_type": "code",
   "execution_count": null,
   "id": "usual-ecology",
   "metadata": {},
   "outputs": [],
   "source": [
    "# 1)\n",
    "#     Add the geographic center of Earth in the form of latitude and longitude (30.0° N and 31.0° E). \n",
    "#     Also, add a zoom level so that only one map of Earth is shown.\n",
    "\n",
    "#     fig = gmaps.figure(center=(30.0, 31.0), zoom_level=1.5) # -> Place in above cell"
   ]
  },
  {
   "cell_type": "code",
   "execution_count": null,
   "id": "lesbian-grammar",
   "metadata": {},
   "outputs": [],
   "source": [
    "# 2) \n",
    "#    Modify the circles for the temps so that they are larger and show temp gradient differences\n",
    "# Use the \"dissipation\" option for creating heatmaps that can be added to the gmaps.heat_layer() attribute\n",
    "# As well as: max_intensity (to make  each measurement have a better gradient variance.)\n",
    "#             point_radius (to make each measurement radius larger.)\n",
    "\n",
    "# Code:\n",
    "#        heat_layer = gmaps.heatmap_layer(locations, weights=temps, dissipating=False, max_intensity=300, point_radius=4)"
   ]
  },
  {
   "cell_type": "code",
   "execution_count": null,
   "id": "norman-medication",
   "metadata": {},
   "outputs": [],
   "source": [
    "#                                Create a Percent Humidity Heatmap"
   ]
  },
  {
   "cell_type": "code",
   "execution_count": null,
   "id": "opened-stretch",
   "metadata": {},
   "outputs": [],
   "source": [
    "# Heatmap of percent humidity\n",
    "locations = city_data_df[[\"Lat\", \"Lng\"]]\n",
    "humidity = city_data_df[\"Humidity\"]\n",
    "fig = gmaps.figure(center=(30.0, 31.0), zoom_level=1.5)\n",
    "heat_layer = gmaps.heatmap_layer(locations, weights=humidity, dissipating=False, max_intensity=300, point_radius=4)\n",
    "\n",
    "fig.add_layer(heat_layer)\n",
    "# Call the figure to plot the data.\n",
    "fig"
   ]
  },
  {
   "cell_type": "code",
   "execution_count": null,
   "id": "animated-turkish",
   "metadata": {},
   "outputs": [],
   "source": [
    "#                                     Create a Percent Cloudiness Heatmap"
   ]
  },
  {
   "cell_type": "code",
   "execution_count": null,
   "id": "sustained-there",
   "metadata": {},
   "outputs": [],
   "source": [
    "# Heatmap of percent cloudiness\n",
    "locations = city_data_df[[\"Lat\", \"Lng\"]]\n",
    "cloudiness = city_data_df[\"Cloudiness\"]\n",
    "fig = gmaps.figure(center=(30.0, 31.0), zoom_level=1.5)\n",
    "heat_layer = gmaps.heatmap_layer(locations, weights=cloudiness, dissipating=False, max_intensity=300, point_radius=4)\n",
    "\n",
    "fig.add_layer(heat_layer)\n",
    "# Call the figure to plot the data.\n",
    "fig"
   ]
  },
  {
   "cell_type": "code",
   "execution_count": null,
   "id": "functional-parks",
   "metadata": {},
   "outputs": [],
   "source": [
    "#                                          Create a Wind Speed Heatmap"
   ]
  },
  {
   "cell_type": "code",
   "execution_count": null,
   "id": "domestic-notebook",
   "metadata": {},
   "outputs": [],
   "source": [
    "# Heatmap of percent cloudiness\n",
    "locations = city_data_df[[\"Lat\", \"Lng\"]]\n",
    "wind = city_data_df[\"Wind Speed\"]\n",
    "fig = gmaps.figure(center=(30.0, 31.0), zoom_level=1.5)\n",
    "heat_layer = gmaps.heatmap_layer(locations, weights=wind, dissipating=False, max_intensity=100, point_radius=4)\n",
    "\n",
    "fig.add_layer(heat_layer)\n",
    "# Call the figure to plot the data.\n",
    "fig"
   ]
  },
  {
   "cell_type": "code",
   "execution_count": 26,
   "id": "prompt-testimony",
   "metadata": {},
   "outputs": [
    {
     "name": "stdout",
     "output_type": "stream",
     "text": [
      "What is the minimum temperature you would like for your trip? 75\n",
      "What is the maximum temperature you would like for your trip? 90\n"
     ]
    }
   ],
   "source": [
    "# Ask the customer to add a minimum and maximum temperature value.\n",
    "min_temp = float(input(\"What is the minimum temperature you would like for your trip? \"))\n",
    "max_temp = float(input(\"What is the maximum temperature you would like for your trip? \"))"
   ]
  },
  {
   "cell_type": "code",
   "execution_count": 27,
   "id": "mounted-vinyl",
   "metadata": {},
   "outputs": [
    {
     "data": {
      "text/html": [
       "<div>\n",
       "<style scoped>\n",
       "    .dataframe tbody tr th:only-of-type {\n",
       "        vertical-align: middle;\n",
       "    }\n",
       "\n",
       "    .dataframe tbody tr th {\n",
       "        vertical-align: top;\n",
       "    }\n",
       "\n",
       "    .dataframe thead th {\n",
       "        text-align: right;\n",
       "    }\n",
       "</style>\n",
       "<table border=\"1\" class=\"dataframe\">\n",
       "  <thead>\n",
       "    <tr style=\"text-align: right;\">\n",
       "      <th></th>\n",
       "      <th>City_ID</th>\n",
       "      <th>City</th>\n",
       "      <th>Country</th>\n",
       "      <th>Date</th>\n",
       "      <th>Lat</th>\n",
       "      <th>Lng</th>\n",
       "      <th>Max Temp</th>\n",
       "      <th>Humidity</th>\n",
       "      <th>Cloudiness</th>\n",
       "      <th>Wind Speed</th>\n",
       "    </tr>\n",
       "  </thead>\n",
       "  <tbody>\n",
       "    <tr>\n",
       "      <th>9</th>\n",
       "      <td>9</td>\n",
       "      <td>Vaini</td>\n",
       "      <td>TO</td>\n",
       "      <td>3/4/2021 6:02</td>\n",
       "      <td>-21.2000</td>\n",
       "      <td>-175.2000</td>\n",
       "      <td>82.40</td>\n",
       "      <td>78</td>\n",
       "      <td>75</td>\n",
       "      <td>9.22</td>\n",
       "    </tr>\n",
       "    <tr>\n",
       "      <th>11</th>\n",
       "      <td>11</td>\n",
       "      <td>Rikitea</td>\n",
       "      <td>PF</td>\n",
       "      <td>3/4/2021 6:02</td>\n",
       "      <td>-23.1203</td>\n",
       "      <td>-134.9692</td>\n",
       "      <td>80.01</td>\n",
       "      <td>82</td>\n",
       "      <td>64</td>\n",
       "      <td>9.80</td>\n",
       "    </tr>\n",
       "    <tr>\n",
       "      <th>13</th>\n",
       "      <td>13</td>\n",
       "      <td>Souillac</td>\n",
       "      <td>MU</td>\n",
       "      <td>3/4/2021 6:02</td>\n",
       "      <td>-20.5167</td>\n",
       "      <td>57.5167</td>\n",
       "      <td>84.20</td>\n",
       "      <td>65</td>\n",
       "      <td>40</td>\n",
       "      <td>9.22</td>\n",
       "    </tr>\n",
       "    <tr>\n",
       "      <th>15</th>\n",
       "      <td>15</td>\n",
       "      <td>Mandurah</td>\n",
       "      <td>AU</td>\n",
       "      <td>3/4/2021 6:02</td>\n",
       "      <td>-32.5500</td>\n",
       "      <td>115.7000</td>\n",
       "      <td>82.99</td>\n",
       "      <td>65</td>\n",
       "      <td>40</td>\n",
       "      <td>14.97</td>\n",
       "    </tr>\n",
       "    <tr>\n",
       "      <th>16</th>\n",
       "      <td>16</td>\n",
       "      <td>Santa Marta</td>\n",
       "      <td>CO</td>\n",
       "      <td>3/4/2021 6:02</td>\n",
       "      <td>11.2408</td>\n",
       "      <td>-74.1990</td>\n",
       "      <td>80.01</td>\n",
       "      <td>74</td>\n",
       "      <td>14</td>\n",
       "      <td>16.31</td>\n",
       "    </tr>\n",
       "    <tr>\n",
       "      <th>17</th>\n",
       "      <td>17</td>\n",
       "      <td>Oistins</td>\n",
       "      <td>BB</td>\n",
       "      <td>3/4/2021 6:00</td>\n",
       "      <td>13.0667</td>\n",
       "      <td>-59.5333</td>\n",
       "      <td>77.00</td>\n",
       "      <td>73</td>\n",
       "      <td>75</td>\n",
       "      <td>21.85</td>\n",
       "    </tr>\n",
       "    <tr>\n",
       "      <th>18</th>\n",
       "      <td>18</td>\n",
       "      <td>Hithadhoo</td>\n",
       "      <td>MV</td>\n",
       "      <td>3/4/2021 6:02</td>\n",
       "      <td>-0.6000</td>\n",
       "      <td>73.0833</td>\n",
       "      <td>82.42</td>\n",
       "      <td>71</td>\n",
       "      <td>13</td>\n",
       "      <td>10.67</td>\n",
       "    </tr>\n",
       "    <tr>\n",
       "      <th>25</th>\n",
       "      <td>25</td>\n",
       "      <td>Butaritari</td>\n",
       "      <td>KI</td>\n",
       "      <td>3/4/2021 6:02</td>\n",
       "      <td>3.0707</td>\n",
       "      <td>172.7902</td>\n",
       "      <td>81.30</td>\n",
       "      <td>81</td>\n",
       "      <td>21</td>\n",
       "      <td>17.98</td>\n",
       "    </tr>\n",
       "    <tr>\n",
       "      <th>28</th>\n",
       "      <td>28</td>\n",
       "      <td>Puerto Ayora</td>\n",
       "      <td>EC</td>\n",
       "      <td>3/4/2021 6:02</td>\n",
       "      <td>-0.7393</td>\n",
       "      <td>-90.3518</td>\n",
       "      <td>75.00</td>\n",
       "      <td>96</td>\n",
       "      <td>89</td>\n",
       "      <td>1.77</td>\n",
       "    </tr>\n",
       "    <tr>\n",
       "      <th>35</th>\n",
       "      <td>35</td>\n",
       "      <td>Port-Gentil</td>\n",
       "      <td>GA</td>\n",
       "      <td>3/4/2021 6:02</td>\n",
       "      <td>-0.7193</td>\n",
       "      <td>8.7815</td>\n",
       "      <td>80.60</td>\n",
       "      <td>94</td>\n",
       "      <td>75</td>\n",
       "      <td>3.44</td>\n",
       "    </tr>\n",
       "  </tbody>\n",
       "</table>\n",
       "</div>"
      ],
      "text/plain": [
       "    City_ID          City Country           Date      Lat       Lng  Max Temp  \\\n",
       "9         9         Vaini      TO  3/4/2021 6:02 -21.2000 -175.2000     82.40   \n",
       "11       11       Rikitea      PF  3/4/2021 6:02 -23.1203 -134.9692     80.01   \n",
       "13       13      Souillac      MU  3/4/2021 6:02 -20.5167   57.5167     84.20   \n",
       "15       15      Mandurah      AU  3/4/2021 6:02 -32.5500  115.7000     82.99   \n",
       "16       16   Santa Marta      CO  3/4/2021 6:02  11.2408  -74.1990     80.01   \n",
       "17       17       Oistins      BB  3/4/2021 6:00  13.0667  -59.5333     77.00   \n",
       "18       18     Hithadhoo      MV  3/4/2021 6:02  -0.6000   73.0833     82.42   \n",
       "25       25    Butaritari      KI  3/4/2021 6:02   3.0707  172.7902     81.30   \n",
       "28       28  Puerto Ayora      EC  3/4/2021 6:02  -0.7393  -90.3518     75.00   \n",
       "35       35   Port-Gentil      GA  3/4/2021 6:02  -0.7193    8.7815     80.60   \n",
       "\n",
       "    Humidity  Cloudiness  Wind Speed  \n",
       "9         78          75        9.22  \n",
       "11        82          64        9.80  \n",
       "13        65          40        9.22  \n",
       "15        65          40       14.97  \n",
       "16        74          14       16.31  \n",
       "17        73          75       21.85  \n",
       "18        71          13       10.67  \n",
       "25        81          21       17.98  \n",
       "28        96          89        1.77  \n",
       "35        94          75        3.44  "
      ]
     },
     "execution_count": 27,
     "metadata": {},
     "output_type": "execute_result"
    }
   ],
   "source": [
    "# Filter the dataset to find the cities that fit the criteria.\n",
    "preferred_cities_df = city_data_df.loc[(city_data_df[\"Max Temp\"] <= max_temp) & \\\n",
    "                                       (city_data_df[\"Max Temp\"] >= min_temp)].dropna()\n",
    "\n",
    "preferred_cities_df.head(10)"
   ]
  },
  {
   "cell_type": "code",
   "execution_count": 28,
   "id": "metallic-filing",
   "metadata": {},
   "outputs": [
    {
     "data": {
      "text/plain": [
       "City_ID       154\n",
       "City          154\n",
       "Country       154\n",
       "Date          154\n",
       "Lat           154\n",
       "Lng           154\n",
       "Max Temp      154\n",
       "Humidity      154\n",
       "Cloudiness    154\n",
       "Wind Speed    154\n",
       "dtype: int64"
      ]
     },
     "execution_count": 28,
     "metadata": {},
     "output_type": "execute_result"
    }
   ],
   "source": [
    "preferred_cities_df.isnull().sum()\n",
    "preferred_cities_df.count()"
   ]
  },
  {
   "cell_type": "code",
   "execution_count": null,
   "id": "posted-springfield",
   "metadata": {},
   "outputs": [],
   "source": [
    "# IMPORTANT\n",
    "# Consider the following guidance:\n",
    "\n",
    "# Depending on the time of year and the seasons, you might have to adjust the minimum and maximum temperature to \n",
    "# get enough cities.\n",
    "\n",
    "# It is a good idea to keep the number of cities to fewer than 200 to make it easier to plot the markers on the heatmap.\n",
    "\n",
    "# If you have some rows with null values, you'll need to drop them using the dropna() method at the end of your \n",
    "# filtering statement when you are creating the new DataFrame."
   ]
  },
  {
   "cell_type": "code",
   "execution_count": null,
   "id": "presidential-clinic",
   "metadata": {},
   "outputs": [],
   "source": [
    "#                                        Map Vacation Criteria"
   ]
  },
  {
   "cell_type": "code",
   "execution_count": 29,
   "id": "terminal-buddy",
   "metadata": {},
   "outputs": [
    {
     "data": {
      "text/html": [
       "<div>\n",
       "<style scoped>\n",
       "    .dataframe tbody tr th:only-of-type {\n",
       "        vertical-align: middle;\n",
       "    }\n",
       "\n",
       "    .dataframe tbody tr th {\n",
       "        vertical-align: top;\n",
       "    }\n",
       "\n",
       "    .dataframe thead th {\n",
       "        text-align: right;\n",
       "    }\n",
       "</style>\n",
       "<table border=\"1\" class=\"dataframe\">\n",
       "  <thead>\n",
       "    <tr style=\"text-align: right;\">\n",
       "      <th></th>\n",
       "      <th>City</th>\n",
       "      <th>Country</th>\n",
       "      <th>Max Temp</th>\n",
       "      <th>Lat</th>\n",
       "      <th>Lng</th>\n",
       "      <th>Hotel Name</th>\n",
       "    </tr>\n",
       "  </thead>\n",
       "  <tbody>\n",
       "    <tr>\n",
       "      <th>9</th>\n",
       "      <td>Vaini</td>\n",
       "      <td>TO</td>\n",
       "      <td>82.40</td>\n",
       "      <td>-21.2000</td>\n",
       "      <td>-175.2000</td>\n",
       "      <td></td>\n",
       "    </tr>\n",
       "    <tr>\n",
       "      <th>11</th>\n",
       "      <td>Rikitea</td>\n",
       "      <td>PF</td>\n",
       "      <td>80.01</td>\n",
       "      <td>-23.1203</td>\n",
       "      <td>-134.9692</td>\n",
       "      <td></td>\n",
       "    </tr>\n",
       "    <tr>\n",
       "      <th>13</th>\n",
       "      <td>Souillac</td>\n",
       "      <td>MU</td>\n",
       "      <td>84.20</td>\n",
       "      <td>-20.5167</td>\n",
       "      <td>57.5167</td>\n",
       "      <td></td>\n",
       "    </tr>\n",
       "    <tr>\n",
       "      <th>15</th>\n",
       "      <td>Mandurah</td>\n",
       "      <td>AU</td>\n",
       "      <td>82.99</td>\n",
       "      <td>-32.5500</td>\n",
       "      <td>115.7000</td>\n",
       "      <td></td>\n",
       "    </tr>\n",
       "    <tr>\n",
       "      <th>16</th>\n",
       "      <td>Santa Marta</td>\n",
       "      <td>CO</td>\n",
       "      <td>80.01</td>\n",
       "      <td>11.2408</td>\n",
       "      <td>-74.1990</td>\n",
       "      <td></td>\n",
       "    </tr>\n",
       "    <tr>\n",
       "      <th>17</th>\n",
       "      <td>Oistins</td>\n",
       "      <td>BB</td>\n",
       "      <td>77.00</td>\n",
       "      <td>13.0667</td>\n",
       "      <td>-59.5333</td>\n",
       "      <td></td>\n",
       "    </tr>\n",
       "    <tr>\n",
       "      <th>18</th>\n",
       "      <td>Hithadhoo</td>\n",
       "      <td>MV</td>\n",
       "      <td>82.42</td>\n",
       "      <td>-0.6000</td>\n",
       "      <td>73.0833</td>\n",
       "      <td></td>\n",
       "    </tr>\n",
       "    <tr>\n",
       "      <th>25</th>\n",
       "      <td>Butaritari</td>\n",
       "      <td>KI</td>\n",
       "      <td>81.30</td>\n",
       "      <td>3.0707</td>\n",
       "      <td>172.7902</td>\n",
       "      <td></td>\n",
       "    </tr>\n",
       "    <tr>\n",
       "      <th>28</th>\n",
       "      <td>Puerto Ayora</td>\n",
       "      <td>EC</td>\n",
       "      <td>75.00</td>\n",
       "      <td>-0.7393</td>\n",
       "      <td>-90.3518</td>\n",
       "      <td></td>\n",
       "    </tr>\n",
       "    <tr>\n",
       "      <th>35</th>\n",
       "      <td>Port-Gentil</td>\n",
       "      <td>GA</td>\n",
       "      <td>80.60</td>\n",
       "      <td>-0.7193</td>\n",
       "      <td>8.7815</td>\n",
       "      <td></td>\n",
       "    </tr>\n",
       "  </tbody>\n",
       "</table>\n",
       "</div>"
      ],
      "text/plain": [
       "            City Country  Max Temp      Lat       Lng Hotel Name\n",
       "9          Vaini      TO     82.40 -21.2000 -175.2000           \n",
       "11       Rikitea      PF     80.01 -23.1203 -134.9692           \n",
       "13      Souillac      MU     84.20 -20.5167   57.5167           \n",
       "15      Mandurah      AU     82.99 -32.5500  115.7000           \n",
       "16   Santa Marta      CO     80.01  11.2408  -74.1990           \n",
       "17       Oistins      BB     77.00  13.0667  -59.5333           \n",
       "18     Hithadhoo      MV     82.42  -0.6000   73.0833           \n",
       "25    Butaritari      KI     81.30   3.0707  172.7902           \n",
       "28  Puerto Ayora      EC     75.00  -0.7393  -90.3518           \n",
       "35   Port-Gentil      GA     80.60  -0.7193    8.7815           "
      ]
     },
     "execution_count": 29,
     "metadata": {},
     "output_type": "execute_result"
    }
   ],
   "source": [
    "# Create DataFrame called hotel_df to store hotel names along with city, country, max temp, and coordinates.\n",
    "hotel_df = preferred_cities_df[[\"City\", \"Country\", \"Max Temp\", \"Lat\", \"Lng\"]].copy()\n",
    "hotel_df[\"Hotel Name\"] = \"\"\n",
    "hotel_df.head(10)"
   ]
  },
  {
   "cell_type": "code",
   "execution_count": null,
   "id": "worse-communications",
   "metadata": {},
   "outputs": [],
   "source": [
    "# For our hotel search, we'll use these parameters:\n",
    "\n",
    "# 1) API key\n",
    "# 2) Latitude and longitude\n",
    "# 3) 5,000-meter radius\n",
    "# 4) Type of place\n",
    "\n",
    "# The section \"Passing Parameters In URLs\":\n",
    "#     States that we can add the parameters as a dictionary of strings, using the params keyword \n",
    "#     argument requests.get('base URL', params=parameters)"
   ]
  },
  {
   "cell_type": "code",
   "execution_count": 30,
   "id": "declared-worship",
   "metadata": {},
   "outputs": [],
   "source": [
    "# Dependencies and Setup\n",
    "import requests\n",
    "import gmaps\n",
    "\n",
    "# Import API key\n",
    "from config import gkey"
   ]
  },
  {
   "cell_type": "code",
   "execution_count": 34,
   "id": "personalized-modem",
   "metadata": {},
   "outputs": [
    {
     "data": {
      "text/plain": [
       "<Response [200]>"
      ]
     },
     "execution_count": 34,
     "metadata": {},
     "output_type": "execute_result"
    }
   ],
   "source": [
    "base_url = \"https://maps.googleapis.com/maps/api/place/nearbysearch/json\"\n",
    "params = {\n",
    "    \"radius\": 5000,\n",
    "    \"type\": \"lodging\",\n",
    "    \"key\": gkey\n",
    "}\n",
    "requests.get(base_url, params=params)"
   ]
  },
  {
   "cell_type": "code",
   "execution_count": 32,
   "id": "demanding-theory",
   "metadata": {},
   "outputs": [
    {
     "name": "stdout",
     "output_type": "stream",
     "text": [
      "Hotel not found... skipping.\n",
      "Hotel not found... skipping.\n",
      "Hotel not found... skipping.\n",
      "Hotel not found... skipping.\n",
      "Hotel not found... skipping.\n",
      "Hotel not found... skipping.\n"
     ]
    }
   ],
   "source": [
    "# Set parameters to search for a hotel.\n",
    "params = {\n",
    "    \"radius\": 5000,\n",
    "    \"type\": \"lodging\",\n",
    "    \"key\": gkey\n",
    "}\n",
    "# Iterate through the DataFrame.\n",
    "for index, row in hotel_df.iterrows():\n",
    "    # Get the latitude and longitude.\n",
    "    lat = row[\"Lat\"]\n",
    "    lng = row[\"Lng\"]\n",
    "\n",
    "    # Add the latitude and longitude to location key for the params dictionary.\n",
    "    params[\"location\"] = f\"{lat},{lng}\"\n",
    "\n",
    "    # Use the search term: \"lodging\" and our latitude and longitude.\n",
    "    base_url = \"https://maps.googleapis.com/maps/api/place/nearbysearch/json\"\n",
    "    # Make request and get the JSON data from the search.\n",
    "    hotels = requests.get(base_url, params=params).json()\n",
    "    # Grab the first hotel from the results and store the name.\n",
    "    try:\n",
    "        hotel_df.loc[index, \"Hotel Name\"] = hotels[\"results\"][0][\"name\"]\n",
    "    except (IndexError):\n",
    "        print(\"Hotel not found... skipping.\")\n",
    "        "
   ]
  },
  {
   "cell_type": "code",
   "execution_count": 37,
   "id": "proud-heating",
   "metadata": {},
   "outputs": [
    {
     "data": {
      "text/html": [
       "<div>\n",
       "<style scoped>\n",
       "    .dataframe tbody tr th:only-of-type {\n",
       "        vertical-align: middle;\n",
       "    }\n",
       "\n",
       "    .dataframe tbody tr th {\n",
       "        vertical-align: top;\n",
       "    }\n",
       "\n",
       "    .dataframe thead th {\n",
       "        text-align: right;\n",
       "    }\n",
       "</style>\n",
       "<table border=\"1\" class=\"dataframe\">\n",
       "  <thead>\n",
       "    <tr style=\"text-align: right;\">\n",
       "      <th></th>\n",
       "      <th>City</th>\n",
       "      <th>Country</th>\n",
       "      <th>Max Temp</th>\n",
       "      <th>Lat</th>\n",
       "      <th>Lng</th>\n",
       "      <th>Hotel Name</th>\n",
       "    </tr>\n",
       "  </thead>\n",
       "  <tbody>\n",
       "    <tr>\n",
       "      <th>9</th>\n",
       "      <td>Vaini</td>\n",
       "      <td>TO</td>\n",
       "      <td>82.40</td>\n",
       "      <td>-21.2000</td>\n",
       "      <td>-175.2000</td>\n",
       "      <td>Keleti Beach Resort</td>\n",
       "    </tr>\n",
       "    <tr>\n",
       "      <th>11</th>\n",
       "      <td>Rikitea</td>\n",
       "      <td>PF</td>\n",
       "      <td>80.01</td>\n",
       "      <td>-23.1203</td>\n",
       "      <td>-134.9692</td>\n",
       "      <td>Pension Maro'i</td>\n",
       "    </tr>\n",
       "    <tr>\n",
       "      <th>13</th>\n",
       "      <td>Souillac</td>\n",
       "      <td>MU</td>\n",
       "      <td>84.20</td>\n",
       "      <td>-20.5167</td>\n",
       "      <td>57.5167</td>\n",
       "      <td>Shanti Maurice Resort &amp; Spa</td>\n",
       "    </tr>\n",
       "    <tr>\n",
       "      <th>15</th>\n",
       "      <td>Mandurah</td>\n",
       "      <td>AU</td>\n",
       "      <td>82.99</td>\n",
       "      <td>-32.5500</td>\n",
       "      <td>115.7000</td>\n",
       "      <td>Atrium Hotel Mandurah</td>\n",
       "    </tr>\n",
       "    <tr>\n",
       "      <th>16</th>\n",
       "      <td>Santa Marta</td>\n",
       "      <td>CO</td>\n",
       "      <td>80.01</td>\n",
       "      <td>11.2408</td>\n",
       "      <td>-74.1990</td>\n",
       "      <td>Casa de Isabella</td>\n",
       "    </tr>\n",
       "  </tbody>\n",
       "</table>\n",
       "</div>"
      ],
      "text/plain": [
       "           City Country  Max Temp      Lat       Lng  \\\n",
       "9         Vaini      TO     82.40 -21.2000 -175.2000   \n",
       "11      Rikitea      PF     80.01 -23.1203 -134.9692   \n",
       "13     Souillac      MU     84.20 -20.5167   57.5167   \n",
       "15     Mandurah      AU     82.99 -32.5500  115.7000   \n",
       "16  Santa Marta      CO     80.01  11.2408  -74.1990   \n",
       "\n",
       "                     Hotel Name  \n",
       "9           Keleti Beach Resort  \n",
       "11               Pension Maro'i  \n",
       "13  Shanti Maurice Resort & Spa  \n",
       "15        Atrium Hotel Mandurah  \n",
       "16             Casa de Isabella  "
      ]
     },
     "execution_count": 37,
     "metadata": {},
     "output_type": "execute_result"
    }
   ],
   "source": [
    "hotel_df.head()"
   ]
  },
  {
   "cell_type": "code",
   "execution_count": null,
   "id": "refined-stuart",
   "metadata": {},
   "outputs": [],
   "source": [
    "# NOTE:\n",
    "# If you encounter more errors, add them to the except block—like so, (IndexError, NewError)\n",
    "# —and continue running your code until there are no errors."
   ]
  },
  {
   "cell_type": "code",
   "execution_count": null,
   "id": "robust-paint",
   "metadata": {},
   "outputs": [],
   "source": [
    "#                     Create a Maximum Temperature Heatmap from a Hotel DataFrame"
   ]
  },
  {
   "cell_type": "code",
   "execution_count": 38,
   "id": "comic-convenience",
   "metadata": {},
   "outputs": [
    {
     "data": {
      "application/vnd.jupyter.widget-view+json": {
       "model_id": "11e5049acda647bc86d392d8b647d7b2",
       "version_major": 2,
       "version_minor": 0
      },
      "text/plain": [
       "Figure(layout=FigureLayout(height='420px'))"
      ]
     },
     "metadata": {},
     "output_type": "display_data"
    }
   ],
   "source": [
    "# Add a heatmap of temperature for the vacation spots.\n",
    "locations = hotel_df[[\"Lat\", \"Lng\"]]\n",
    "max_temp = hotel_df[\"Max Temp\"]\n",
    "fig = gmaps.figure(center=(30.0, 31.0), zoom_level=1.5)\n",
    "heat_layer = gmaps.heatmap_layer(locations, weights=max_temp, dissipating=False,\n",
    "             max_intensity=300, point_radius=4)\n",
    "\n",
    "info_box_template = \"\"\"\n",
    "<dl>\n",
    "<dt>Hotel Name</dt><dd>{Hotel Name}</dd>\n",
    "<dt>City</dt><dd>{City}</dd>\n",
    "<dt>Country</dt><dd>{Country}</dd>\n",
    "<dt>Max Temp</dt><dd>{Max Temp} °F</dd>\n",
    "</dl>\n",
    "\"\"\"\n",
    "# Store the DataFrame Row.\n",
    "hotel_info = [info_box_template.format(**row) for index, row in hotel_df.iterrows()]\n",
    "\n",
    "marker_layer = gmaps.marker_layer(locations, info_box_content=hotel_info)\n",
    "fig.add_layer(heat_layer)\n",
    "fig.add_layer(marker_layer)\n",
    "# Call the figure to plot the data.\n",
    "fig"
   ]
  },
  {
   "cell_type": "code",
   "execution_count": null,
   "id": "dated-editor",
   "metadata": {},
   "outputs": [],
   "source": [
    "# Add a pop-up marker for each city that displays the hotel name, city name, country, and maximum temperature.\n",
    "# info_box_template syntax\n",
    "\n",
    "# info_box_template = \"\"\"\n",
    "# <dl>\n",
    "# <dt>Name</dt><dd>{column1}</dd>\n",
    "# <dt>Another name</dt><dd>{column2}</dd>\n",
    "# </dl>\n",
    "# \"\"\"\n",
    "\n",
    "# Description List: <dl>\n",
    "# Description Term: <dt>\n",
    "# Description Definition: <dd>\n",
    "# Description Term: <dt>\n",
    "# Description Definition: <dd>"
   ]
  }
 ],
 "metadata": {
  "kernelspec": {
   "display_name": "Python 3",
   "language": "python",
   "name": "python3"
  },
  "language_info": {
   "codemirror_mode": {
    "name": "ipython",
    "version": 3
   },
   "file_extension": ".py",
   "mimetype": "text/x-python",
   "name": "python",
   "nbconvert_exporter": "python",
   "pygments_lexer": "ipython3",
   "version": "3.8.5"
  }
 },
 "nbformat": 4,
 "nbformat_minor": 5
}
